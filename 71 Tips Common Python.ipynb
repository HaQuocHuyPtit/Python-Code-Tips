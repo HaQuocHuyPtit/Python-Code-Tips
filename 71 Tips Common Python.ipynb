{
 "cells": [
  {
   "cell_type": "markdown",
   "metadata": {},
   "source": [
    "# 1.Inverse dict"
   ]
  },
  {
   "cell_type": "code",
   "execution_count": 5,
   "metadata": {},
   "outputs": [
    {
     "name": "stdout",
     "output_type": "stream",
     "text": [
      "defaultdict(<class 'list'>, {'One for All': ['Izuku Midoriya', 'All Might'], 'Explosion': ['Katsuki Bakugo'], 'Zero Gravity': ['Ochaco Uraraka']})\n",
      "{'One for All': ['Izuku Midoriya', 'All Might'], 'Explosion': ['Katsuki Bakugo'], 'Zero Gravity': ['Ochaco Uraraka']}\n"
     ]
    }
   ],
   "source": [
    "my_dict = my_dict = {\n",
    "  'Katsuki Bakugo': 'Explosion', \n",
    "  'All Might': 'One for All', \n",
    "  'Ochaco Uraraka': 'Zero Gravity'\n",
    "}\n",
    "\n",
    "# Use to invert dictionaries that have unique values\n",
    "my_inverted_dict = dict(map(reversed, my_dict.items()))\n",
    " \n",
    "# Use to invert dictionaries that have unique values\n",
    "my_inverted_dict = {value: key for key, value in my_dict.items()}\n",
    " \n",
    "my_dict = {\n",
    "  'Izuku Midoriya': 'One for All', \n",
    "  'Katsuki Bakugo': 'Explosion', \n",
    "  'All Might': 'One for All', \n",
    "  'Ochaco Uraraka': 'Zero Gravity'\n",
    "}\n",
    "# Use to invert dictionaries that have non-unique values\n",
    "from collections import defaultdict\n",
    "my_inverted_dict = defaultdict(list)\n",
    "{my_inverted_dict[v].append(k) for k, v in my_dict.items()}\n",
    "print(my_inverted_dict)\n",
    "# Use to invert dictionaries that have non-unique values\n",
    "my_inverted_dict = dict()\n",
    "for key, value in my_dict.items(): \n",
    "  my_inverted_dict.setdefault(value, list()).append(key)\n",
    "print(my_inverted_dict)"
   ]
  },
  {
   "cell_type": "markdown",
   "metadata": {},
   "source": [
    "# 2.Cộng các element của 2 List"
   ]
  },
  {
   "cell_type": "code",
   "execution_count": 7,
   "metadata": {},
   "outputs": [
    {
     "name": "stdout",
     "output_type": "stream",
     "text": [
      "[2 list([7, 7]) list([2, 1]) list([8374163, 2314567]) list([84302738, 0])]\n"
     ]
    }
   ],
   "source": [
    "ethernet_devices = [1, [7], [2], [8374163], [84302738]]\n",
    "usb_devices = [1, [7], [1], [2314567], [0]]\n",
    " \n",
    "# The long way\n",
    "all_devices = [\n",
    "  ethernet_devices[0] + usb_devices[0], \n",
    "  ethernet_devices[1] + usb_devices[1], \n",
    "  ethernet_devices[2] + usb_devices[2], \n",
    "  ethernet_devices[3] + usb_devices[3], \n",
    "  ethernet_devices[4] + usb_devices[4]\n",
    "]\n",
    " \n",
    "# Some comprehension magic\n",
    "all_devices = [x + y for x, y in zip(ethernet_devices, usb_devices)]\n",
    " \n",
    "# Let's use maps\n",
    "import operator \n",
    "all_devices = list(map(operator.add, ethernet_devices, usb_devices))\n",
    " \n",
    "# We can't forget our favorite computation library\n",
    "import numpy as np \n",
    "all_devices = np.add(ethernet_devices, usb_devices)\n",
    "print(all_devices)"
   ]
  },
  {
   "cell_type": "markdown",
   "metadata": {},
   "source": [
    "# 3.Cách kiểm tra xem file có đang tồn tại hay không"
   ]
  },
  {
   "cell_type": "code",
   "execution_count": 8,
   "metadata": {},
   "outputs": [],
   "source": [
    "# Brute force with a try-except block (Python 3+)\n",
    "try: \n",
    "  with open('/path/to/file', 'r') as fh: \n",
    "    pass\n",
    "except FileNotFoundError: \n",
    "  pass\n",
    " \n",
    "# Leverage the OS package (possible race condition)\n",
    "import os \n",
    "exists = os.path.isfile('/path/to/file')\n",
    " \n",
    "# Wrap the path in an object for enhanced functionality\n",
    "from pathlib import Path\n",
    "config = Path('/path/to/file') \n",
    "if config.is_file(): \n",
    "  pass"
   ]
  },
  {
   "cell_type": "markdown",
   "metadata": {},
   "source": [
    "# 4.Đưa 2 list vào trong 1 dictionary"
   ]
  },
  {
   "cell_type": "code",
   "execution_count": 10,
   "metadata": {},
   "outputs": [
    {
     "name": "stdout",
     "output_type": "stream",
     "text": [
      "{'id': 1, 'color': 'red', 'style': 'bold'}\n",
      "{'id': 1, 'color': 'red', 'style': 'bold'}\n",
      "{'id': [1], 'color': ['red'], 'style': ['bold']}\n"
     ]
    }
   ],
   "source": [
    "column_names = ['id', 'color', 'style']\n",
    "column_values = [1, 'red', 'bold']\n",
    "\n",
    "name_to_value_dict = dict(zip(column_names, column_values))\n",
    "print(name_to_value_dict)\n",
    "\n",
    "name_to_value_dict = {key : value for key, value in zip(column_names, column_values)}\n",
    "print(name_to_value_dict)\n",
    "\n",
    "name_to_value_dict = dict()\n",
    "for key,values in zip(column_names, column_values):\n",
    "    name_to_value_dict.setdefault(key, list()).append(values)\n",
    "print(name_to_value_dict)\n"
   ]
  },
  {
   "cell_type": "markdown",
   "metadata": {},
   "source": [
    "# 5.Kiểm tra list có rỗng hay không"
   ]
  },
  {
   "cell_type": "code",
   "execution_count": 11,
   "metadata": {},
   "outputs": [
    {
     "name": "stdout",
     "output_type": "stream",
     "text": [
      "List is empty\n",
      "List is empty\n",
      "List is empty\n"
     ]
    }
   ],
   "source": [
    "my_list = list()\n",
    "\n",
    "if len(my_list) == 0:\n",
    "    print(\"List is empty\")\n",
    "\n",
    "if my_list == []:\n",
    "    print(\"List is empty\")\n",
    "if not my_list:\n",
    "    print(\"List is empty\")"
   ]
  },
  {
   "cell_type": "markdown",
   "metadata": {},
   "source": [
    "# 6.Clone một list"
   ]
  },
  {
   "cell_type": "code",
   "execution_count": 22,
   "metadata": {},
   "outputs": [],
   "source": [
    "my_list = [27, 13, -11, 60, 39, 15] # tham chiếu mỗi vị trí trong list\n",
    "my_duplicated_list = [item for item in my_list]\n",
    "\n",
    "my_duplicated_list = my_list # moị thay đổi trên my_dup sẽ thay đổi trên my_list\n",
    "\n",
    "my_duplicated_list = my_list[:]\n",
    "\n",
    "my_duplicated_list = list(my_list)\n",
    "\n",
    "my_duplicated_list = my_list.copy() #prefered method\n",
    "\n",
    "import copy\n",
    "my_duplicated_list = copy.copy(my_list)\n",
    "# copy nông : bất kỳ thay đổi nào được thực hiện trên bản sao  đều tác động tới đối tượng ban đầu vì chèn các tham chiếu trong bản gốc\n",
    "my_duplicated_list = copy.deepcopy(my_list)\n",
    "# deep copy : bất kỳ thay đổi nào được thực hiện cho bản sao của đối tượng không phản án đối tượng ban đầu vì chèn bản sao\n",
    "my_duplicated_list = my_list*1 # do not do this"
   ]
  },
  {
   "cell_type": "markdown",
   "metadata": {},
   "source": [
    "# Trong python các câu lệnh gán không sao chép các đối tượng , chúng chỉ tạo ra các ràng buộc giữa đích và một đối tượng . Phép = tạo ra một biến mới chia sẻ tham chiếu của đối tượng ban đầu ."
   ]
  },
  {
   "cell_type": "markdown",
   "metadata": {},
   "source": [
    "# 7.Khôi phục mục sau cùng của 1 list"
   ]
  },
  {
   "cell_type": "code",
   "execution_count": 23,
   "metadata": {},
   "outputs": [],
   "source": [
    "my_list = ['red', 'blue', 'green']\n",
    "last_item = my_list[len(my_list) - 1]\n",
    "\n",
    "last_item = my_list.pop()\n",
    "\n",
    "last_item = my_list[-1]\n",
    "\n",
    "# Get the last item using iterable unpacking\n",
    "*_, last_item = my_list"
   ]
  },
  {
   "cell_type": "markdown",
   "metadata": {},
   "source": [
    "# 8.Sắp xếp một list string"
   ]
  },
  {
   "cell_type": "code",
   "execution_count": 26,
   "metadata": {},
   "outputs": [],
   "source": [
    "my_list = [\"leaf\", \"cherry\", \"fish\"]\n",
    "#buble sort\n",
    "size = len(my_list)\n",
    "for i in range(size): \n",
    "  for j in range(size): \n",
    "    if my_list[i] < my_list[j]: \n",
    "       temp = my_list[i] \n",
    "       my_list[i] = my_list[j] \n",
    "       my_list[j] = temp\n",
    "#fastest\n",
    "my_list.sort()\n",
    "my_list = sorted(my_list)\n",
    "# Custom list sort using casefold (>= Python 3.3)\n",
    "my_list = sorted(my_list, key=str.casefold) \n",
    " \n",
    "# Custom list sort using current locale \n",
    "import locale\n",
    "from functools import cmp_to_key\n",
    "my_list = sorted(my_list, key=cmp_to_key(locale.strcoll)) \n",
    " \n",
    "# Custom reverse list sort using casefold (>= Python 3.3)\n",
    "my_list = sorted(my_list, key=str.casefold, reverse=True)"
   ]
  },
  {
   "cell_type": "markdown",
   "metadata": {},
   "source": [
    "# 9.Phân tích một bảng tính"
   ]
  },
  {
   "cell_type": "code",
   "execution_count": null,
   "metadata": {},
   "outputs": [],
   "source": [
    "# CSV reader solution\n",
    "import csv\n",
    "csv_mapping_list = []\n",
    "with open(\"/path/to/data.csv\") as my_data: \n",
    "  csv_reader = csv.reader(my_data, delimiter=\",\") \n",
    "  line_count = 0 \n",
    "  for line in csv_reader: \n",
    "    if line_count == 0: \n",
    "      header = line \n",
    "    else: \n",
    "      row_dict = {key: value for key, value in zip(header, line)} \n",
    "      csv_mapping_list.append(row_dict) \n",
    "    line_count += 1\n",
    "\n",
    "# Brute force solution\n",
    "csv_mapping_list = []\n",
    "with open(\"/path/to/data.csv\") as my_data: \n",
    "  line_count = 0 \n",
    "  for line in my_data: \n",
    "    row_list = [val.strip() for val in line.split(\",\")] \n",
    "    if line_count == 0: \n",
    "      header = row_list \n",
    "    else: \n",
    "      row_dict = {key: value for key, value in zip(header, row_list)}\n",
    "      csv_mapping_list.append(row_dict) \n",
    "    line_count += 1"
   ]
  },
  {
   "cell_type": "markdown",
   "metadata": {},
   "source": [
    "# 10.Sắp xếp 1 list các dictionary"
   ]
  },
  {
   "cell_type": "code",
   "execution_count": 31,
   "metadata": {},
   "outputs": [],
   "source": [
    "csv_mapping_list = [\n",
    "  { \"Name\": \"Jeremy\", \"Age\": 25, \"Favorite Color\": \"Blue\" }, \n",
    "  { \"Name\": \"Ally\", \"Age\": 41, \"Favorite Color\": \"Magenta\" }, \n",
    "  { \"Name\": \"Jasmine\", \"Age\": 29, \"Favorite Color\": \"Aqua\" }\n",
    "]\n",
    "# selection sort\n",
    "size = len(csv_mapping_list)\n",
    "for i in range(size):\n",
    "    min_index = i\n",
    "    for j in range(i+1, size):\n",
    "        if csv_mapping_list[min_index]['Age'] > csv_mapping_list[j]['Age']:\n",
    "            min_index = j\n",
    "            csv_mapping_list[i], csv_mapping_list[min_index] = csv_mapping_list[min_index], csv_mapping_list[i]\n",
    "# in-built function\n",
    "csv_mapping_list.sort(key=lambda item: item.get('Age')) # dùng key là function để set up tiêu chí sắp xếp\n",
    "\n",
    "from operator import itemgetter\n",
    "f = itemgetter('Name')\n",
    "csv_mapping_list.sort(key=f)\n",
    "\n",
    "csv_mapping_list = sorted(csv_mapping_list, key=lambda item:item.get('Age'))"
   ]
  },
  {
   "cell_type": "markdown",
   "metadata": {},
   "source": [
    "# 11.Viết 1 list comprehension"
   ]
  },
  {
   "cell_type": "code",
   "execution_count": 44,
   "metadata": {},
   "outputs": [
    {
     "name": "stdout",
     "output_type": "stream",
     "text": [
      "[[1, 2], [3, 4]]\n"
     ]
    }
   ],
   "source": [
    "my_list = [2, 5, -4, 6]\n",
    "\n",
    "[item for item in my_list]\n",
    "\n",
    "[(a, b) for a in (1, 3, 5) for b in (2, 4, 6)]\n",
    "\n",
    "my_list = [[1, 2], [3, 4]]\n",
    "#duplicate a 2D list\n",
    "[[item for item in sub_list] for sub_list in my_list]\n",
    "# Duplicate an n-dimensional list\n",
    "def deep_copy(to_copy): \n",
    "  if type(to_copy) is list: \n",
    "    return [deep_copy(item) for item in to_copy] \n",
    "  else: \n",
    "    return to_copy"
   ]
  },
  {
   "cell_type": "markdown",
   "metadata": {},
   "source": [
    "# 12.Gộp 2 dictionary"
   ]
  },
  {
   "cell_type": "code",
   "execution_count": 49,
   "metadata": {},
   "outputs": [],
   "source": [
    "yusuke_power = {\"Yusuke Urameshi\": \"Spirit Gun\"}\n",
    "hiei_power = {\"Hiei\": \"Jagan Eye\"}\n",
    "powers = dict()\n",
    " \n",
    "# Brute force\n",
    "for dictionary in (yusuke_power, hiei_power): \n",
    "  for key, value in dictionary.items(): \n",
    "    powers[key] = value\n",
    " \n",
    "# Dictionary Comprehension\n",
    "powers = {key: value for d in (yusuke_power, hiei_power) for key, value in d.items()}\n",
    " \n",
    "# Dictionary unpacking (Python 3.5+)\n",
    "powers = {**yusuke_power, **hiei_power}\n",
    "\n",
    "# Backwards compatible function for any number of dicts\n",
    "def merge_dicts(*dicts: dict): \n",
    "  merged_dict = dict() \n",
    "  for dictionary in dicts: \n",
    "    merge_dict.update(dictionary) \n",
    "  return merged_dict"
   ]
  },
  {
   "cell_type": "code",
   "execution_count": null,
   "metadata": {},
   "outputs": [],
   "source": []
  }
 ],
 "metadata": {
  "kernelspec": {
   "display_name": "Python 3",
   "language": "python",
   "name": "python3"
  },
  "language_info": {
   "codemirror_mode": {
    "name": "ipython",
    "version": 3
   },
   "file_extension": ".py",
   "mimetype": "text/x-python",
   "name": "python",
   "nbconvert_exporter": "python",
   "pygments_lexer": "ipython3",
   "version": "3.7.4"
  }
 },
 "nbformat": 4,
 "nbformat_minor": 2
}
